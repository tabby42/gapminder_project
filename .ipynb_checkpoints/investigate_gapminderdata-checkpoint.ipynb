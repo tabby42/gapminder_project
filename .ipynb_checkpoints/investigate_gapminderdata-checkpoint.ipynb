{
 "cells": [
  {
   "cell_type": "markdown",
   "metadata": {},
   "source": [
    "# Project: Investigating gapminder data\n",
    "\n",
    "## Table of Contents\n",
    "<ul>\n",
    "<li><a href=\"#intro\">Introduction</a></li>\n",
    "<li><a href=\"#wrangling\">Data Wrangling</a></li>\n",
    "    <ul>\n",
    "        <li><a href=\"#loadinspect\">Load and inspect data</a></li>\n",
    "        <li><a href=\"#compare\">Compare number of countries</a></li>\n",
    "        <li><a href=\"#dropping\">Drop unneeded rows and columns</a></li>\n",
    "        <li><a href=\"#missing\">Handle missing data</a></li>\n",
    "        <ul>\n",
    "            <li><a href=\"#missingco2\">Fix missing values in CO2 data</a></li>\n",
    "            <li><a href=\"#missinglife\">Fix missing values in Life Expectancy data</a></li>\n",
    "            <li><a href=\"#missingagr\">Fix missing values in Agricultural Area data</a></li>\n",
    "        </ul>\n",
    "        <li><a href=\"#checking\">Check datatypes and duplicates</a></li>\n",
    "        <li><a href=\"#reshape\">Reshaping data</a></li>\n",
    "    </ul>\n",
    "<li><a href=\"#eda\">Exploratory Data Analysis</a></li>\n",
    "<li><a href=\"#conclusions\">Conclusions</a></li>\n",
    "</ul>"
   ]
  },
  {
   "cell_type": "markdown",
   "metadata": {},
   "source": [
    "<a id='intro'></a>\n",
    "## Introduction\n",
    "\n",
    "> **Tip**: In this section of the report, provide a brief introduction to the dataset you've selected for analysis. At the end of this section, describe the questions that you plan on exploring over the course of the report. Try to build your report around the analysis of at least one dependent variable and three independent variables.\n",
    ">Explain variables\n",
    "\n",
    "\n",
    "### Questions\n",
    "\n",
    "- How does population development relate to life expectancy in different parts of the world?\n",
    "- How do CO2 emissions relate to the Agricultural Area of countries?\n",
    "- How do CO2 emissions relate to the population of a country?\n",
    "- How do CO2 emissions relate to the average life expectancy of a country?\n",
    "\n",
    "### Variables\n",
    "\n",
    "- **Total population:** per year and country, 1950–2100\n",
    "- **CO2-emissions:** in tonnes per person per year and country, 1950–1918\n",
    "- **Life Expectancy:** in years per year and country, 1950–2100\n",
    "- **Agricultural Area:** in % of total surface area per year and country, 1961–2018"
   ]
  },
  {
   "cell_type": "code",
   "execution_count": 254,
   "metadata": {},
   "outputs": [],
   "source": [
    "#% of world pop for country/region/continent, which regions grow, which regions shrink, is there a pattern\n",
    "#life expectancy: how much difference between 1950 and 1918, what change is expected until 2100 ->\n",
    "#worldwide, by continent, EU, region\n",
    "#then look at relationship pop/life expectancy\n",
    "#"
   ]
  },
  {
   "cell_type": "code",
   "execution_count": 255,
   "metadata": {},
   "outputs": [],
   "source": [
    "#load necessary libraries\n",
    "import pandas as pd\n",
    "import numpy as np\n",
    "import matplotlib.pyplot as plt\n",
    "import seaborn as sns\n",
    "\n",
    "#run python file with helper functions\n",
    "%run helpers.py\n",
    "\n",
    "#render plots in the notebook\n",
    "%matplotlib inline\n",
    "#set style for all plots\n",
    "plt.style.use('ggplot');"
   ]
  },
  {
   "cell_type": "markdown",
   "metadata": {},
   "source": [
    "<a id='wrangling'></a>\n",
    "## Data Wrangling\n",
    "\n",
    "> **Tip**: In this section of the report, you will load in the data, check for cleanliness, and then trim and clean your dataset for analysis. Make sure that you document your steps carefully and justify your cleaning decisions.\n",
    "<a id='loadinspect'></a>\n",
    "### Load and inspect data\n",
    "\n",
    "In this section, I will inspect the different datasets individually\\\n",
    "to familiarize myself with them and prepare them for the following analysis."
   ]
  },
  {
   "cell_type": "code",
   "execution_count": 256,
   "metadata": {},
   "outputs": [
    {
     "name": "stdout",
     "output_type": "stream",
     "text": [
      "<class 'pandas.core.frame.DataFrame'>\n",
      "RangeIndex: 197 entries, 0 to 196\n",
      "Columns: 302 entries, country to 2100\n",
      "dtypes: object(302)\n",
      "memory usage: 464.9+ KB\n"
     ]
    },
    {
     "data": {
      "text/plain": [
       "None"
      ]
     },
     "metadata": {},
     "output_type": "display_data"
    },
    {
     "data": {
      "text/html": [
       "<div>\n",
       "<style scoped>\n",
       "    .dataframe tbody tr th:only-of-type {\n",
       "        vertical-align: middle;\n",
       "    }\n",
       "\n",
       "    .dataframe tbody tr th {\n",
       "        vertical-align: top;\n",
       "    }\n",
       "\n",
       "    .dataframe thead th {\n",
       "        text-align: right;\n",
       "    }\n",
       "</style>\n",
       "<table border=\"1\" class=\"dataframe\">\n",
       "  <thead>\n",
       "    <tr style=\"text-align: right;\">\n",
       "      <th></th>\n",
       "      <th>country</th>\n",
       "      <th>1800</th>\n",
       "      <th>1801</th>\n",
       "      <th>1802</th>\n",
       "      <th>1803</th>\n",
       "      <th>1804</th>\n",
       "      <th>1805</th>\n",
       "      <th>1806</th>\n",
       "      <th>1807</th>\n",
       "      <th>1808</th>\n",
       "      <th>...</th>\n",
       "      <th>2091</th>\n",
       "      <th>2092</th>\n",
       "      <th>2093</th>\n",
       "      <th>2094</th>\n",
       "      <th>2095</th>\n",
       "      <th>2096</th>\n",
       "      <th>2097</th>\n",
       "      <th>2098</th>\n",
       "      <th>2099</th>\n",
       "      <th>2100</th>\n",
       "    </tr>\n",
       "  </thead>\n",
       "  <tbody>\n",
       "    <tr>\n",
       "      <th>0</th>\n",
       "      <td>Afghanistan</td>\n",
       "      <td>3.28M</td>\n",
       "      <td>3.28M</td>\n",
       "      <td>3.28M</td>\n",
       "      <td>3.28M</td>\n",
       "      <td>3.28M</td>\n",
       "      <td>3.28M</td>\n",
       "      <td>3.28M</td>\n",
       "      <td>3.28M</td>\n",
       "      <td>3.28M</td>\n",
       "      <td>...</td>\n",
       "      <td>76.6M</td>\n",
       "      <td>76.4M</td>\n",
       "      <td>76.3M</td>\n",
       "      <td>76.1M</td>\n",
       "      <td>76M</td>\n",
       "      <td>75.8M</td>\n",
       "      <td>75.6M</td>\n",
       "      <td>75.4M</td>\n",
       "      <td>75.2M</td>\n",
       "      <td>74.9M</td>\n",
       "    </tr>\n",
       "    <tr>\n",
       "      <th>1</th>\n",
       "      <td>Angola</td>\n",
       "      <td>1.57M</td>\n",
       "      <td>1.57M</td>\n",
       "      <td>1.57M</td>\n",
       "      <td>1.57M</td>\n",
       "      <td>1.57M</td>\n",
       "      <td>1.57M</td>\n",
       "      <td>1.57M</td>\n",
       "      <td>1.57M</td>\n",
       "      <td>1.57M</td>\n",
       "      <td>...</td>\n",
       "      <td>168M</td>\n",
       "      <td>170M</td>\n",
       "      <td>172M</td>\n",
       "      <td>175M</td>\n",
       "      <td>177M</td>\n",
       "      <td>179M</td>\n",
       "      <td>182M</td>\n",
       "      <td>184M</td>\n",
       "      <td>186M</td>\n",
       "      <td>188M</td>\n",
       "    </tr>\n",
       "    <tr>\n",
       "      <th>2</th>\n",
       "      <td>Albania</td>\n",
       "      <td>400k</td>\n",
       "      <td>402k</td>\n",
       "      <td>404k</td>\n",
       "      <td>405k</td>\n",
       "      <td>407k</td>\n",
       "      <td>409k</td>\n",
       "      <td>411k</td>\n",
       "      <td>413k</td>\n",
       "      <td>414k</td>\n",
       "      <td>...</td>\n",
       "      <td>1.33M</td>\n",
       "      <td>1.3M</td>\n",
       "      <td>1.27M</td>\n",
       "      <td>1.25M</td>\n",
       "      <td>1.22M</td>\n",
       "      <td>1.19M</td>\n",
       "      <td>1.17M</td>\n",
       "      <td>1.14M</td>\n",
       "      <td>1.11M</td>\n",
       "      <td>1.09M</td>\n",
       "    </tr>\n",
       "  </tbody>\n",
       "</table>\n",
       "<p>3 rows × 302 columns</p>\n",
       "</div>"
      ],
      "text/plain": [
       "       country   1800   1801   1802   1803   1804   1805   1806   1807   1808  \\\n",
       "0  Afghanistan  3.28M  3.28M  3.28M  3.28M  3.28M  3.28M  3.28M  3.28M  3.28M   \n",
       "1       Angola  1.57M  1.57M  1.57M  1.57M  1.57M  1.57M  1.57M  1.57M  1.57M   \n",
       "2      Albania   400k   402k   404k   405k   407k   409k   411k   413k   414k   \n",
       "\n",
       "   ...   2091   2092   2093   2094   2095   2096   2097   2098   2099   2100  \n",
       "0  ...  76.6M  76.4M  76.3M  76.1M    76M  75.8M  75.6M  75.4M  75.2M  74.9M  \n",
       "1  ...   168M   170M   172M   175M   177M   179M   182M   184M   186M   188M  \n",
       "2  ...  1.33M   1.3M  1.27M  1.25M  1.22M  1.19M  1.17M  1.14M  1.11M  1.09M  \n",
       "\n",
       "[3 rows x 302 columns]"
      ]
     },
     "metadata": {},
     "output_type": "display_data"
    }
   ],
   "source": [
    "#load population over time dataset\n",
    "pop = pd.read_csv('./gapminder_data/population_total.csv')\n",
    "display(pop.info())\n",
    "display(pop.head(3))"
   ]
  },
  {
   "cell_type": "code",
   "execution_count": 257,
   "metadata": {
    "scrolled": true
   },
   "outputs": [
    {
     "name": "stdout",
     "output_type": "stream",
     "text": [
      "<class 'pandas.core.frame.DataFrame'>\n",
      "RangeIndex: 194 entries, 0 to 193\n",
      "Columns: 220 entries, country to 2018\n",
      "dtypes: float64(215), object(5)\n",
      "memory usage: 333.6+ KB\n"
     ]
    },
    {
     "data": {
      "text/plain": [
       "None"
      ]
     },
     "metadata": {},
     "output_type": "display_data"
    }
   ],
   "source": [
    "#load dataset with CO2 emissions per country over time\n",
    "co2 = pd.read_csv('./gapminder_data/co2_emissions_tonnes_per_person.csv')\n",
    "display(co2.info())"
   ]
  },
  {
   "cell_type": "code",
   "execution_count": 258,
   "metadata": {
    "scrolled": true
   },
   "outputs": [
    {
     "data": {
      "text/html": [
       "<div>\n",
       "<style scoped>\n",
       "    .dataframe tbody tr th:only-of-type {\n",
       "        vertical-align: middle;\n",
       "    }\n",
       "\n",
       "    .dataframe tbody tr th {\n",
       "        vertical-align: top;\n",
       "    }\n",
       "\n",
       "    .dataframe thead th {\n",
       "        text-align: right;\n",
       "    }\n",
       "</style>\n",
       "<table border=\"1\" class=\"dataframe\">\n",
       "  <thead>\n",
       "    <tr style=\"text-align: right;\">\n",
       "      <th></th>\n",
       "      <th>country</th>\n",
       "      <th>1800</th>\n",
       "      <th>1801</th>\n",
       "      <th>1802</th>\n",
       "      <th>1803</th>\n",
       "      <th>1804</th>\n",
       "      <th>1805</th>\n",
       "      <th>1806</th>\n",
       "      <th>1807</th>\n",
       "      <th>1808</th>\n",
       "      <th>...</th>\n",
       "      <th>2009</th>\n",
       "      <th>2010</th>\n",
       "      <th>2011</th>\n",
       "      <th>2012</th>\n",
       "      <th>2013</th>\n",
       "      <th>2014</th>\n",
       "      <th>2015</th>\n",
       "      <th>2016</th>\n",
       "      <th>2017</th>\n",
       "      <th>2018</th>\n",
       "    </tr>\n",
       "  </thead>\n",
       "  <tbody>\n",
       "    <tr>\n",
       "      <th>0</th>\n",
       "      <td>Afghanistan</td>\n",
       "      <td>NaN</td>\n",
       "      <td>NaN</td>\n",
       "      <td>NaN</td>\n",
       "      <td>NaN</td>\n",
       "      <td>NaN</td>\n",
       "      <td>NaN</td>\n",
       "      <td>NaN</td>\n",
       "      <td>NaN</td>\n",
       "      <td>NaN</td>\n",
       "      <td>...</td>\n",
       "      <td>0.238</td>\n",
       "      <td>0.29</td>\n",
       "      <td>0.406</td>\n",
       "      <td>0.345</td>\n",
       "      <td>0.28</td>\n",
       "      <td>0.253</td>\n",
       "      <td>0.262</td>\n",
       "      <td>0.245</td>\n",
       "      <td>0.247</td>\n",
       "      <td>0.254</td>\n",
       "    </tr>\n",
       "    <tr>\n",
       "      <th>1</th>\n",
       "      <td>Angola</td>\n",
       "      <td>NaN</td>\n",
       "      <td>NaN</td>\n",
       "      <td>NaN</td>\n",
       "      <td>NaN</td>\n",
       "      <td>NaN</td>\n",
       "      <td>NaN</td>\n",
       "      <td>NaN</td>\n",
       "      <td>NaN</td>\n",
       "      <td>NaN</td>\n",
       "      <td>...</td>\n",
       "      <td>1.230</td>\n",
       "      <td>1.24</td>\n",
       "      <td>1.250</td>\n",
       "      <td>1.350</td>\n",
       "      <td>1.28</td>\n",
       "      <td>1.640</td>\n",
       "      <td>1.220</td>\n",
       "      <td>1.180</td>\n",
       "      <td>1.140</td>\n",
       "      <td>1.120</td>\n",
       "    </tr>\n",
       "    <tr>\n",
       "      <th>2</th>\n",
       "      <td>Albania</td>\n",
       "      <td>NaN</td>\n",
       "      <td>NaN</td>\n",
       "      <td>NaN</td>\n",
       "      <td>NaN</td>\n",
       "      <td>NaN</td>\n",
       "      <td>NaN</td>\n",
       "      <td>NaN</td>\n",
       "      <td>NaN</td>\n",
       "      <td>NaN</td>\n",
       "      <td>...</td>\n",
       "      <td>1.470</td>\n",
       "      <td>1.56</td>\n",
       "      <td>1.790</td>\n",
       "      <td>1.690</td>\n",
       "      <td>1.69</td>\n",
       "      <td>1.900</td>\n",
       "      <td>1.600</td>\n",
       "      <td>1.570</td>\n",
       "      <td>1.610</td>\n",
       "      <td>1.590</td>\n",
       "    </tr>\n",
       "  </tbody>\n",
       "</table>\n",
       "<p>3 rows × 220 columns</p>\n",
       "</div>"
      ],
      "text/plain": [
       "       country  1800  1801  1802  1803  1804  1805  1806  1807  1808  ...  \\\n",
       "0  Afghanistan   NaN   NaN   NaN   NaN   NaN   NaN   NaN   NaN   NaN  ...   \n",
       "1       Angola   NaN   NaN   NaN   NaN   NaN   NaN   NaN   NaN   NaN  ...   \n",
       "2      Albania   NaN   NaN   NaN   NaN   NaN   NaN   NaN   NaN   NaN  ...   \n",
       "\n",
       "    2009  2010   2011   2012  2013   2014   2015   2016   2017   2018  \n",
       "0  0.238  0.29  0.406  0.345  0.28  0.253  0.262  0.245  0.247  0.254  \n",
       "1  1.230  1.24  1.250  1.350  1.28  1.640  1.220  1.180  1.140  1.120  \n",
       "2  1.470  1.56  1.790  1.690  1.69  1.900  1.600  1.570  1.610  1.590  \n",
       "\n",
       "[3 rows x 220 columns]"
      ]
     },
     "metadata": {},
     "output_type": "display_data"
    }
   ],
   "source": [
    "display(co2.head(3))"
   ]
  },
  {
   "cell_type": "code",
   "execution_count": 259,
   "metadata": {},
   "outputs": [
    {
     "name": "stdout",
     "output_type": "stream",
     "text": [
      "<class 'pandas.core.frame.DataFrame'>\n",
      "RangeIndex: 211 entries, 0 to 210\n",
      "Columns: 59 entries, country to 2018\n",
      "dtypes: float64(58), object(1)\n",
      "memory usage: 97.4+ KB\n"
     ]
    },
    {
     "data": {
      "text/plain": [
       "None"
      ]
     },
     "metadata": {},
     "output_type": "display_data"
    }
   ],
   "source": [
    "#load data for agricultural area in %\n",
    "agri_area = pd.read_csv('./gapminder_data/agricultural_land_percent_of_land_area.csv')\n",
    "display(agri_area.info(verbose=False))"
   ]
  },
  {
   "cell_type": "code",
   "execution_count": 260,
   "metadata": {
    "scrolled": true
   },
   "outputs": [
    {
     "data": {
      "text/html": [
       "<div>\n",
       "<style scoped>\n",
       "    .dataframe tbody tr th:only-of-type {\n",
       "        vertical-align: middle;\n",
       "    }\n",
       "\n",
       "    .dataframe tbody tr th {\n",
       "        vertical-align: top;\n",
       "    }\n",
       "\n",
       "    .dataframe thead th {\n",
       "        text-align: right;\n",
       "    }\n",
       "</style>\n",
       "<table border=\"1\" class=\"dataframe\">\n",
       "  <thead>\n",
       "    <tr style=\"text-align: right;\">\n",
       "      <th></th>\n",
       "      <th>country</th>\n",
       "      <th>1961</th>\n",
       "      <th>1962</th>\n",
       "      <th>1963</th>\n",
       "      <th>1964</th>\n",
       "      <th>1965</th>\n",
       "      <th>1966</th>\n",
       "      <th>1967</th>\n",
       "      <th>1968</th>\n",
       "      <th>1969</th>\n",
       "      <th>...</th>\n",
       "      <th>2009</th>\n",
       "      <th>2010</th>\n",
       "      <th>2011</th>\n",
       "      <th>2012</th>\n",
       "      <th>2013</th>\n",
       "      <th>2014</th>\n",
       "      <th>2015</th>\n",
       "      <th>2016</th>\n",
       "      <th>2017</th>\n",
       "      <th>2018</th>\n",
       "    </tr>\n",
       "  </thead>\n",
       "  <tbody>\n",
       "    <tr>\n",
       "      <th>0</th>\n",
       "      <td>Aruba</td>\n",
       "      <td>11.1</td>\n",
       "      <td>11.1</td>\n",
       "      <td>11.1</td>\n",
       "      <td>11.1</td>\n",
       "      <td>11.1</td>\n",
       "      <td>11.1</td>\n",
       "      <td>11.1</td>\n",
       "      <td>11.1</td>\n",
       "      <td>11.1</td>\n",
       "      <td>...</td>\n",
       "      <td>11.1</td>\n",
       "      <td>11.1</td>\n",
       "      <td>11.1</td>\n",
       "      <td>11.1</td>\n",
       "      <td>11.1</td>\n",
       "      <td>11.1</td>\n",
       "      <td>11.1</td>\n",
       "      <td>11.1</td>\n",
       "      <td>11.1</td>\n",
       "      <td>11.1</td>\n",
       "    </tr>\n",
       "    <tr>\n",
       "      <th>1</th>\n",
       "      <td>Afghanistan</td>\n",
       "      <td>57.7</td>\n",
       "      <td>57.8</td>\n",
       "      <td>57.9</td>\n",
       "      <td>58.0</td>\n",
       "      <td>58.0</td>\n",
       "      <td>58.1</td>\n",
       "      <td>58.2</td>\n",
       "      <td>58.2</td>\n",
       "      <td>58.2</td>\n",
       "      <td>...</td>\n",
       "      <td>58.1</td>\n",
       "      <td>58.1</td>\n",
       "      <td>58.1</td>\n",
       "      <td>58.1</td>\n",
       "      <td>58.1</td>\n",
       "      <td>58.1</td>\n",
       "      <td>58.1</td>\n",
       "      <td>58.1</td>\n",
       "      <td>58.1</td>\n",
       "      <td>58.1</td>\n",
       "    </tr>\n",
       "    <tr>\n",
       "      <th>2</th>\n",
       "      <td>Angola</td>\n",
       "      <td>45.9</td>\n",
       "      <td>45.9</td>\n",
       "      <td>45.9</td>\n",
       "      <td>45.9</td>\n",
       "      <td>45.9</td>\n",
       "      <td>46.0</td>\n",
       "      <td>46.0</td>\n",
       "      <td>46.0</td>\n",
       "      <td>46.0</td>\n",
       "      <td>...</td>\n",
       "      <td>41.7</td>\n",
       "      <td>42.1</td>\n",
       "      <td>42.6</td>\n",
       "      <td>43.0</td>\n",
       "      <td>43.5</td>\n",
       "      <td>43.9</td>\n",
       "      <td>44.3</td>\n",
       "      <td>44.8</td>\n",
       "      <td>45.2</td>\n",
       "      <td>45.7</td>\n",
       "    </tr>\n",
       "  </tbody>\n",
       "</table>\n",
       "<p>3 rows × 59 columns</p>\n",
       "</div>"
      ],
      "text/plain": [
       "       country  1961  1962  1963  1964  1965  1966  1967  1968  1969  ...  \\\n",
       "0        Aruba  11.1  11.1  11.1  11.1  11.1  11.1  11.1  11.1  11.1  ...   \n",
       "1  Afghanistan  57.7  57.8  57.9  58.0  58.0  58.1  58.2  58.2  58.2  ...   \n",
       "2       Angola  45.9  45.9  45.9  45.9  45.9  46.0  46.0  46.0  46.0  ...   \n",
       "\n",
       "   2009  2010  2011  2012  2013  2014  2015  2016  2017  2018  \n",
       "0  11.1  11.1  11.1  11.1  11.1  11.1  11.1  11.1  11.1  11.1  \n",
       "1  58.1  58.1  58.1  58.1  58.1  58.1  58.1  58.1  58.1  58.1  \n",
       "2  41.7  42.1  42.6  43.0  43.5  43.9  44.3  44.8  45.2  45.7  \n",
       "\n",
       "[3 rows x 59 columns]"
      ]
     },
     "metadata": {},
     "output_type": "display_data"
    }
   ],
   "source": [
    "display(agri_area.head(3))"
   ]
  },
  {
   "cell_type": "code",
   "execution_count": 261,
   "metadata": {
    "scrolled": true
   },
   "outputs": [
    {
     "name": "stdout",
     "output_type": "stream",
     "text": [
      "<class 'pandas.core.frame.DataFrame'>\n",
      "RangeIndex: 195 entries, 0 to 194\n",
      "Columns: 302 entries, country to 2100\n",
      "dtypes: float64(301), object(1)\n",
      "memory usage: 460.2+ KB\n"
     ]
    },
    {
     "data": {
      "text/plain": [
       "None"
      ]
     },
     "metadata": {},
     "output_type": "display_data"
    }
   ],
   "source": [
    "#load data for life ecpectancy\n",
    "life_exp = pd.read_csv('./gapminder_data/life_expectancy_years.csv')\n",
    "display(life_exp.info())"
   ]
  },
  {
   "cell_type": "code",
   "execution_count": 262,
   "metadata": {},
   "outputs": [
    {
     "data": {
      "text/html": [
       "<div>\n",
       "<style scoped>\n",
       "    .dataframe tbody tr th:only-of-type {\n",
       "        vertical-align: middle;\n",
       "    }\n",
       "\n",
       "    .dataframe tbody tr th {\n",
       "        vertical-align: top;\n",
       "    }\n",
       "\n",
       "    .dataframe thead th {\n",
       "        text-align: right;\n",
       "    }\n",
       "</style>\n",
       "<table border=\"1\" class=\"dataframe\">\n",
       "  <thead>\n",
       "    <tr style=\"text-align: right;\">\n",
       "      <th></th>\n",
       "      <th>country</th>\n",
       "      <th>1800</th>\n",
       "      <th>1801</th>\n",
       "      <th>1802</th>\n",
       "      <th>1803</th>\n",
       "      <th>1804</th>\n",
       "      <th>1805</th>\n",
       "      <th>1806</th>\n",
       "      <th>1807</th>\n",
       "      <th>1808</th>\n",
       "      <th>...</th>\n",
       "      <th>2091</th>\n",
       "      <th>2092</th>\n",
       "      <th>2093</th>\n",
       "      <th>2094</th>\n",
       "      <th>2095</th>\n",
       "      <th>2096</th>\n",
       "      <th>2097</th>\n",
       "      <th>2098</th>\n",
       "      <th>2099</th>\n",
       "      <th>2100</th>\n",
       "    </tr>\n",
       "  </thead>\n",
       "  <tbody>\n",
       "    <tr>\n",
       "      <th>0</th>\n",
       "      <td>Afghanistan</td>\n",
       "      <td>28.2</td>\n",
       "      <td>28.2</td>\n",
       "      <td>28.2</td>\n",
       "      <td>28.2</td>\n",
       "      <td>28.2</td>\n",
       "      <td>28.2</td>\n",
       "      <td>28.1</td>\n",
       "      <td>28.1</td>\n",
       "      <td>28.1</td>\n",
       "      <td>...</td>\n",
       "      <td>75.5</td>\n",
       "      <td>75.7</td>\n",
       "      <td>75.8</td>\n",
       "      <td>76.0</td>\n",
       "      <td>76.1</td>\n",
       "      <td>76.2</td>\n",
       "      <td>76.4</td>\n",
       "      <td>76.5</td>\n",
       "      <td>76.6</td>\n",
       "      <td>76.8</td>\n",
       "    </tr>\n",
       "    <tr>\n",
       "      <th>1</th>\n",
       "      <td>Angola</td>\n",
       "      <td>27.0</td>\n",
       "      <td>27.0</td>\n",
       "      <td>27.0</td>\n",
       "      <td>27.0</td>\n",
       "      <td>27.0</td>\n",
       "      <td>27.0</td>\n",
       "      <td>27.0</td>\n",
       "      <td>27.0</td>\n",
       "      <td>27.0</td>\n",
       "      <td>...</td>\n",
       "      <td>78.8</td>\n",
       "      <td>79.0</td>\n",
       "      <td>79.1</td>\n",
       "      <td>79.2</td>\n",
       "      <td>79.3</td>\n",
       "      <td>79.5</td>\n",
       "      <td>79.6</td>\n",
       "      <td>79.7</td>\n",
       "      <td>79.9</td>\n",
       "      <td>80.0</td>\n",
       "    </tr>\n",
       "    <tr>\n",
       "      <th>2</th>\n",
       "      <td>Albania</td>\n",
       "      <td>35.4</td>\n",
       "      <td>35.4</td>\n",
       "      <td>35.4</td>\n",
       "      <td>35.4</td>\n",
       "      <td>35.4</td>\n",
       "      <td>35.4</td>\n",
       "      <td>35.4</td>\n",
       "      <td>35.4</td>\n",
       "      <td>35.4</td>\n",
       "      <td>...</td>\n",
       "      <td>87.4</td>\n",
       "      <td>87.5</td>\n",
       "      <td>87.6</td>\n",
       "      <td>87.7</td>\n",
       "      <td>87.8</td>\n",
       "      <td>87.9</td>\n",
       "      <td>88.0</td>\n",
       "      <td>88.2</td>\n",
       "      <td>88.3</td>\n",
       "      <td>88.4</td>\n",
       "    </tr>\n",
       "  </tbody>\n",
       "</table>\n",
       "<p>3 rows × 302 columns</p>\n",
       "</div>"
      ],
      "text/plain": [
       "       country  1800  1801  1802  1803  1804  1805  1806  1807  1808  ...  \\\n",
       "0  Afghanistan  28.2  28.2  28.2  28.2  28.2  28.2  28.1  28.1  28.1  ...   \n",
       "1       Angola  27.0  27.0  27.0  27.0  27.0  27.0  27.0  27.0  27.0  ...   \n",
       "2      Albania  35.4  35.4  35.4  35.4  35.4  35.4  35.4  35.4  35.4  ...   \n",
       "\n",
       "   2091  2092  2093  2094  2095  2096  2097  2098  2099  2100  \n",
       "0  75.5  75.7  75.8  76.0  76.1  76.2  76.4  76.5  76.6  76.8  \n",
       "1  78.8  79.0  79.1  79.2  79.3  79.5  79.6  79.7  79.9  80.0  \n",
       "2  87.4  87.5  87.6  87.7  87.8  87.9  88.0  88.2  88.3  88.4  \n",
       "\n",
       "[3 rows x 302 columns]"
      ]
     },
     "metadata": {},
     "output_type": "display_data"
    }
   ],
   "source": [
    "display(life_exp.head(3))"
   ]
  },
  {
   "cell_type": "markdown",
   "metadata": {},
   "source": [
    "<a id='compare'></a>\n",
    "### Compare number of countries\n",
    "The number of countries is different in each dataset.</br>\n",
    "So this section is about finding out which and how many</br>\n",
    "countries do not appear in all of the datasets."
   ]
  },
  {
   "cell_type": "code",
   "execution_count": 263,
   "metadata": {},
   "outputs": [
    {
     "name": "stdout",
     "output_type": "stream",
     "text": [
      "Number of countries in Population: 197\n",
      "Number of countries in CO2: 194\n",
      "Number of countries in Life Expectancy: 195\n",
      "Number of countries in Agricultural Area: 211\n"
     ]
    }
   ],
   "source": [
    "#save datasets and names for iterations\n",
    "datasets = [pop, co2, life_exp, agri_area]\n",
    "names = ['Population', 'CO2', 'Life Expectancy', 'Agricultural Area']\n",
    "  \n",
    "#compare countries\n",
    "get_num_countries(datasets, names)"
   ]
  },
  {
   "cell_type": "code",
   "execution_count": 264,
   "metadata": {},
   "outputs": [
    {
     "name": "stdout",
     "output_type": "stream",
     "text": [
      "['American Samoa', 'Aruba', 'Bermuda', 'British Virgin Islands', 'Cayman Islands', 'Channel Islands', 'Faeroe Islands', 'French Polynesia', 'Greenland', 'Guam', 'Holy See', 'Isle of Man', 'Kosovo', 'Liechtenstein', 'Monaco', 'New Caledonia', 'Northern Mariana Islands', 'Puerto Rico', 'San Marino', 'Taiwan', 'Turks and Caicos Islands', 'Virgin Islands (U.S.)']\n",
      "22\n"
     ]
    }
   ],
   "source": [
    "#save country columns as sets and\n",
    "#look at the difference\n",
    "sets = [set(ds.country) for ds in datasets]\n",
    "combined_diff = []\n",
    "\n",
    "import itertools\n",
    "\n",
    "#compare each set with all others\n",
    "for x, y in itertools.combinations(sets, 2):\n",
    "    combined_diff += x.difference(y)\n",
    "    combined_diff += y.difference(x)\n",
    "    \n",
    "combined_diff = sorted(set(combined_diff))\n",
    "print(combined_diff)\n",
    "print(len(combined_diff))"
   ]
  },
  {
   "cell_type": "markdown",
   "metadata": {},
   "source": [
    "<a id='dropping'></a>\n",
    "### Drop unneeded rows and columns\n",
    "\n",
    "There are 22 countries that do not appear in all datasets.<br/>\n",
    "Since all of them are very small and sparsely populated,<br/>\n",
    "I drop these rows from the datasets."
   ]
  },
  {
   "cell_type": "code",
   "execution_count": 265,
   "metadata": {},
   "outputs": [
    {
     "name": "stdout",
     "output_type": "stream",
     "text": [
      "Number of countries in Population: 192\n",
      "Number of countries in CO2: 192\n",
      "Number of countries in Life Expectancy: 192\n",
      "Number of countries in Agricultural Area: 192\n"
     ]
    }
   ],
   "source": [
    "for ds in datasets:\n",
    "    #get indexes of rows to drop\n",
    "    to_drop = ds[ds['country'].isin(combined_diff)].index\n",
    "    #drop rows accordingly\n",
    "    ds.drop(to_drop, axis=0, inplace=True)\n",
    "\n",
    "#check if number of countries matches now\n",
    "get_num_countries(datasets, names)          "
   ]
  },
  {
   "cell_type": "markdown",
   "metadata": {},
   "source": [
    "Now that I have the same countries in all the datasets, I also<br/>\n",
    "want to look at the same timeframes in all of them, if possible.</br>\n",
    "I will look only at data after 1949, so I drop the columns for earlier years."
   ]
  },
  {
   "cell_type": "code",
   "execution_count": 266,
   "metadata": {},
   "outputs": [],
   "source": [
    "#drop data from 1800 to 1949 from all datasets,\n",
    "#except Agricultural Area, which only starts in 1961\n",
    "[val.drop(val.loc[:, '1800':'1949'], axis=1, inplace=True) for i, val in enumerate(datasets) if names[i] != 'Agricultural Area'];"
   ]
  },
  {
   "cell_type": "markdown",
   "metadata": {},
   "source": [
    "<a id='checking'></a>\n",
    "### Check  datatypes and duplicates\n",
    "\n",
    "All 152 columns in the Population data are of object type,</br>\n",
    "which is not what I want because for plotting and exploring</br>\n",
    "numerical data is needed. This will be handled in this section.</br>\n",
    "The columns with numerical data in CO2, Agricultural Area and </br>\n",
    "Life Expectancy are all floats, so nothing has to be fixed here. </br>\n",
    "None of the datasets contain any duplicated rows."
   ]
  },
  {
   "cell_type": "code",
   "execution_count": 267,
   "metadata": {
    "scrolled": true
   },
   "outputs": [
    {
     "name": "stdout",
     "output_type": "stream",
     "text": [
      "Population\n",
      "[dtype('O')]\n",
      "There are no duplicates in Population.\n",
      "\n",
      "CO2\n",
      "[dtype('O'), dtype('float64')]\n",
      "There are no duplicates in CO2.\n",
      "\n",
      "Life Expectancy\n",
      "[dtype('O'), dtype('float64')]\n",
      "There are no duplicates in Life Expectancy.\n",
      "\n",
      "Agricultural Area\n",
      "[dtype('O'), dtype('float64')]\n",
      "There are no duplicates in Agricultural Area.\n",
      "\n"
     ]
    }
   ],
   "source": [
    "for i, val in enumerate(datasets):\n",
    "    print(names[i])\n",
    "    print(list(val.dtypes.unique()))\n",
    "    if pop.duplicated().any():\n",
    "        print('There are duplicates in {}.\\n'.format(names[i]))\n",
    "    else:\n",
    "        print('There are no duplicates in {}.\\n'.format(names[i]))"
   ]
  },
  {
   "cell_type": "markdown",
   "metadata": {},
   "source": [
    "#### Fix datatypes in Population data\n",
    "In this section I remove the suffixes 'M', 'k' and 'B' from the numbers and then</br>\n",
    "convert the datatype from object(string) to float using `pd.to_numeric()` with a custom function."
   ]
  },
  {
   "cell_type": "code",
   "execution_count": 268,
   "metadata": {},
   "outputs": [],
   "source": [
    "#save column names except 'country'\n",
    "labels = list(pop.columns[1:])\n",
    "\n",
    "#remove suffixes and convert to float\n",
    "for val in labels:\n",
    "    pop[val] = pop[val].apply(cut_suffix_tonumber)"
   ]
  },
  {
   "cell_type": "code",
   "execution_count": 269,
   "metadata": {
    "scrolled": true
   },
   "outputs": [
    {
     "name": "stdout",
     "output_type": "stream",
     "text": [
      "<class 'pandas.core.frame.DataFrame'>\n",
      "Int64Index: 192 entries, 0 to 196\n",
      "Columns: 152 entries, country to 2100\n",
      "dtypes: float64(151), object(1)\n",
      "memory usage: 229.5+ KB\n"
     ]
    },
    {
     "data": {
      "text/html": [
       "<div>\n",
       "<style scoped>\n",
       "    .dataframe tbody tr th:only-of-type {\n",
       "        vertical-align: middle;\n",
       "    }\n",
       "\n",
       "    .dataframe tbody tr th {\n",
       "        vertical-align: top;\n",
       "    }\n",
       "\n",
       "    .dataframe thead th {\n",
       "        text-align: right;\n",
       "    }\n",
       "</style>\n",
       "<table border=\"1\" class=\"dataframe\">\n",
       "  <thead>\n",
       "    <tr style=\"text-align: right;\">\n",
       "      <th></th>\n",
       "      <th>country</th>\n",
       "      <th>1950</th>\n",
       "      <th>1951</th>\n",
       "      <th>1952</th>\n",
       "      <th>1953</th>\n",
       "      <th>1954</th>\n",
       "      <th>1955</th>\n",
       "      <th>1956</th>\n",
       "      <th>1957</th>\n",
       "      <th>1958</th>\n",
       "      <th>...</th>\n",
       "      <th>2091</th>\n",
       "      <th>2092</th>\n",
       "      <th>2093</th>\n",
       "      <th>2094</th>\n",
       "      <th>2095</th>\n",
       "      <th>2096</th>\n",
       "      <th>2097</th>\n",
       "      <th>2098</th>\n",
       "      <th>2099</th>\n",
       "      <th>2100</th>\n",
       "    </tr>\n",
       "  </thead>\n",
       "  <tbody>\n",
       "    <tr>\n",
       "      <th>0</th>\n",
       "      <td>Afghanistan</td>\n",
       "      <td>7750000.0</td>\n",
       "      <td>7840000.0</td>\n",
       "      <td>7940000.0</td>\n",
       "      <td>8040000.0</td>\n",
       "      <td>8150000.0</td>\n",
       "      <td>8270000.0</td>\n",
       "      <td>8400000.0</td>\n",
       "      <td>8540000.0</td>\n",
       "      <td>8680000.0</td>\n",
       "      <td>...</td>\n",
       "      <td>76600000.0</td>\n",
       "      <td>76400000.0</td>\n",
       "      <td>76300000.0</td>\n",
       "      <td>76100000.0</td>\n",
       "      <td>76000000.0</td>\n",
       "      <td>75800000.0</td>\n",
       "      <td>75600000.0</td>\n",
       "      <td>75400000.0</td>\n",
       "      <td>75200000.0</td>\n",
       "      <td>74900000.0</td>\n",
       "    </tr>\n",
       "    <tr>\n",
       "      <th>1</th>\n",
       "      <td>Angola</td>\n",
       "      <td>4550000.0</td>\n",
       "      <td>4620000.0</td>\n",
       "      <td>4710000.0</td>\n",
       "      <td>4820000.0</td>\n",
       "      <td>4940000.0</td>\n",
       "      <td>5040000.0</td>\n",
       "      <td>5140000.0</td>\n",
       "      <td>5230000.0</td>\n",
       "      <td>5310000.0</td>\n",
       "      <td>...</td>\n",
       "      <td>168000000.0</td>\n",
       "      <td>170000000.0</td>\n",
       "      <td>172000000.0</td>\n",
       "      <td>175000000.0</td>\n",
       "      <td>177000000.0</td>\n",
       "      <td>179000000.0</td>\n",
       "      <td>182000000.0</td>\n",
       "      <td>184000000.0</td>\n",
       "      <td>186000000.0</td>\n",
       "      <td>188000000.0</td>\n",
       "    </tr>\n",
       "    <tr>\n",
       "      <th>2</th>\n",
       "      <td>Albania</td>\n",
       "      <td>1260000.0</td>\n",
       "      <td>1290000.0</td>\n",
       "      <td>1320000.0</td>\n",
       "      <td>1350000.0</td>\n",
       "      <td>1380000.0</td>\n",
       "      <td>1420000.0</td>\n",
       "      <td>1460000.0</td>\n",
       "      <td>1500000.0</td>\n",
       "      <td>1540000.0</td>\n",
       "      <td>...</td>\n",
       "      <td>1330000.0</td>\n",
       "      <td>1300000.0</td>\n",
       "      <td>1270000.0</td>\n",
       "      <td>1250000.0</td>\n",
       "      <td>1220000.0</td>\n",
       "      <td>1190000.0</td>\n",
       "      <td>1170000.0</td>\n",
       "      <td>1140000.0</td>\n",
       "      <td>1110000.0</td>\n",
       "      <td>1090000.0</td>\n",
       "    </tr>\n",
       "  </tbody>\n",
       "</table>\n",
       "<p>3 rows × 152 columns</p>\n",
       "</div>"
      ],
      "text/plain": [
       "       country       1950       1951       1952       1953       1954  \\\n",
       "0  Afghanistan  7750000.0  7840000.0  7940000.0  8040000.0  8150000.0   \n",
       "1       Angola  4550000.0  4620000.0  4710000.0  4820000.0  4940000.0   \n",
       "2      Albania  1260000.0  1290000.0  1320000.0  1350000.0  1380000.0   \n",
       "\n",
       "        1955       1956       1957       1958  ...         2091         2092  \\\n",
       "0  8270000.0  8400000.0  8540000.0  8680000.0  ...   76600000.0   76400000.0   \n",
       "1  5040000.0  5140000.0  5230000.0  5310000.0  ...  168000000.0  170000000.0   \n",
       "2  1420000.0  1460000.0  1500000.0  1540000.0  ...    1330000.0    1300000.0   \n",
       "\n",
       "          2093         2094         2095         2096         2097  \\\n",
       "0   76300000.0   76100000.0   76000000.0   75800000.0   75600000.0   \n",
       "1  172000000.0  175000000.0  177000000.0  179000000.0  182000000.0   \n",
       "2    1270000.0    1250000.0    1220000.0    1190000.0    1170000.0   \n",
       "\n",
       "          2098         2099         2100  \n",
       "0   75400000.0   75200000.0   74900000.0  \n",
       "1  184000000.0  186000000.0  188000000.0  \n",
       "2    1140000.0    1110000.0    1090000.0  \n",
       "\n",
       "[3 rows x 152 columns]"
      ]
     },
     "execution_count": 269,
     "metadata": {},
     "output_type": "execute_result"
    }
   ],
   "source": [
    "#verify type conversion\n",
    "pop.info()\n",
    "pop.head(3)"
   ]
  },
  {
   "cell_type": "markdown",
   "metadata": {},
   "source": [
    "<a id='missing'></a>\n",
    "### Handle missing data"
   ]
  },
  {
   "cell_type": "markdown",
   "metadata": {},
   "source": [
    "An overview shows that there are no missing values in the population dataset,</br>\n",
    "but there are several in the CO2, Forest Area and Life expectancy datasets.</br>\n",
    "They will be fixed in the next sections."
   ]
  },
  {
   "cell_type": "code",
   "execution_count": 270,
   "metadata": {},
   "outputs": [
    {
     "name": "stderr",
     "output_type": "stream",
     "text": [
      "/Users/irene/Documents/udacity/DataAnalyst/DataAnalysisProject/gapminder_project/helpers.py:11: PerformanceWarning: DataFrame is highly fragmented.  This is usually the result of calling `frame.insert` many times, which has poor performance.  Consider joining all columns at once using pd.concat(axis=1) instead.  To get a de-fragmented frame, use `newframe = frame.copy()`\n",
      "  data['missing'] = data.iloc[:, 1:].apply(lambda x: x.isna().sum() if numpy.any(x.isna()) else 0, axis=1)\n"
     ]
    },
    {
     "data": {
      "text/plain": [
       "'Number of missing values per country in Population: []'"
      ]
     },
     "metadata": {},
     "output_type": "display_data"
    },
    {
     "data": {
      "text/plain": [
       "'Number of countries with missing values in Population: 0'"
      ]
     },
     "metadata": {},
     "output_type": "display_data"
    },
    {
     "data": {
      "text/plain": [
       "'Number of missing values per country in CO2: [40, 9, 7, 9, 8, 8, 9, 20, 22, 9, 8, 9, 9, 1, 44, 9, 42, 9, 8, 9, 5, 11, 31, 5, 40, 9, 21, 42, 9, 9, 9, 9, 9, 9, 41, 8, 14, 14, 42, 40, 9, 8, 7, 2, 9, 9, 1, 9, 2, 13, 9, 52, 40, 5, 12, 9, 9]'"
      ]
     },
     "metadata": {},
     "output_type": "display_data"
    },
    {
     "data": {
      "text/plain": [
       "'Number of countries with missing values in CO2: 57'"
      ]
     },
     "metadata": {},
     "output_type": "display_data"
    },
    {
     "data": {
      "text/plain": [
       "'Number of missing values per country in Life Expectancy: [81, 81, 81, 81, 81, 81, 81]'"
      ]
     },
     "metadata": {},
     "output_type": "display_data"
    },
    {
     "data": {
      "text/plain": [
       "'Number of countries with missing values in Life Expectancy: 7'"
      ]
     },
     "metadata": {},
     "output_type": "display_data"
    },
    {
     "data": {
      "text/plain": [
       "'Number of missing values per country in Agricultural Area: [31, 31, 31, 31, 32, 32, 31, 30, 31, 31, 31, 31, 31, 39, 31, 31, 30, 31, 45, 30, 2, 31, 50, 45, 50, 32, 31, 31, 31, 31, 31]'"
      ]
     },
     "metadata": {},
     "output_type": "display_data"
    },
    {
     "data": {
      "text/plain": [
       "'Number of countries with missing values in Agricultural Area: 31'"
      ]
     },
     "metadata": {},
     "output_type": "display_data"
    }
   ],
   "source": [
    "#check for NaN values\n",
    "for i, val in enumerate(datasets):\n",
    "    filtered = get_missing(val)[0]\n",
    "    #output num of missing values\n",
    "    display('Number of missing values per country in {}: {}'.format(names[i], [x for x in filtered.values]))\n",
    "    display('Number of countries with missing values in {}: {}'.format(names[i], len([x for x in filtered.values])))"
   ]
  },
  {
   "cell_type": "markdown",
   "metadata": {},
   "source": [
    "<a id='missingco2'></a>\n",
    "#### Fix missing values in CO2 data\n",
    "A bar chart of the missing values in CO2 shows that there are quite a lot,</br>\n",
    "so I don't want to drop the affected rows or replace the values with 0. \n",
    "</br>Instead I use the pandas `fillna()` function to impute the missing </br>\n",
    "values with the mean (rounded to 4 decimal places to match the existing values)."
   ]
  },
  {
   "cell_type": "code",
   "execution_count": 271,
   "metadata": {
    "scrolled": true
   },
   "outputs": [
    {
     "data": {
      "image/png": "[encoded data removed]",
      "text/plain": [
       "<Figure size 1080x345.6 with 1 Axes>"
      ]
     },
     "metadata": {},
     "output_type": "display_data"
    }
   ],
   "source": [
    "#set chart size\n",
    "plt.figure(figsize=(15, 4.8))\n",
    "\n",
    "#create bar chart\n",
    "x_val, x_lab = get_missing(co2)\n",
    "plot_missing(co2, x_val, x_lab, 'CO2')"
   ]
  },
  {
   "cell_type": "code",
   "execution_count": 272,
   "metadata": {},
   "outputs": [],
   "source": [
    "#replace missing with mean\n",
    "#parameter numeric_only=True to get rid of a Future Warnings\n",
    "co2.fillna(round(co2.mean(numeric_only=True), 4), inplace=True)"
   ]
  },
  {
   "cell_type": "code",
   "execution_count": 273,
   "metadata": {
    "scrolled": true
   },
   "outputs": [
    {
     "data": {
      "text/plain": [
       "False"
      ]
     },
     "execution_count": 273,
     "metadata": {},
     "output_type": "execute_result"
    }
   ],
   "source": [
    "#verify that there are no more missing values\n",
    "co2.isna().sum().any()"
   ]
  },
  {
   "cell_type": "markdown",
   "metadata": {},
   "source": [
    "<a id='missinglife'></a>\n",
    "#### Fix missing values in Life Expectancy data\n",
    "The bar chart shows that 7 countries have 81 missing values each."
   ]
  },
  {
   "cell_type": "code",
   "execution_count": 274,
   "metadata": {
    "scrolled": true
   },
   "outputs": [
    {
     "data": {
      "image/png": "[encoded data removed]",
      "text/plain": [
       "<Figure size 504x273.6 with 1 Axes>"
      ]
     },
     "metadata": {},
     "output_type": "display_data"
    }
   ],
   "source": [
    "#set chart size\n",
    "plt.figure(figsize=(7, 3.8))\n",
    "\n",
    "#create bar chart\n",
    "x_val, x_lab = get_missing(life_exp)\n",
    "plot_missing(co2, x_val, x_lab, 'Life Expectancy')"
   ]
  },
  {
   "cell_type": "markdown",
   "metadata": {},
   "source": [
    "In this case looking at the DataFrame makes it clearer than a chart that</br>\n",
    "apparently those 7 countries are missing all the predicted future values</br>\n",
    "(the future at the time the dataset was created), which won't be needed.</br>\n",
    "I use pandas `fillna()` function to replace the NaN values with zeros."
   ]
  },
  {
   "cell_type": "code",
   "execution_count": 275,
   "metadata": {},
   "outputs": [],
   "source": [
    "#life_exp[life_exp['missing'].isin(x_val)].loc[:,'2018':].head(3)"
   ]
  },
  {
   "cell_type": "code",
   "execution_count": 276,
   "metadata": {},
   "outputs": [
    {
     "data": {
      "text/plain": [
       "False"
      ]
     },
     "execution_count": 276,
     "metadata": {},
     "output_type": "execute_result"
    }
   ],
   "source": [
    "#replace missing values with 0\n",
    "life_exp.fillna(0, inplace=True)\n",
    "\n",
    "#verify that there are no more missing values \n",
    "co2.isna().sum().any()"
   ]
  },
  {
   "cell_type": "markdown",
   "metadata": {},
   "source": [
    "<a id='missingagr'></a>\n",
    "#### Fix missing values in Agricultural Area data\n",
    "After plotting a chart and inspecting the missing values in the DataFrame,</br> \n",
    "it is apparent that the missing values appear only before 1992.</br>\n",
    "Again the missing values are imputed with `fillna()` function using the</br>\n",
    "'backfill'-method, which uses the next non-null value to fill the gaps."
   ]
  },
  {
   "cell_type": "code",
   "execution_count": 277,
   "metadata": {
    "scrolled": true
   },
   "outputs": [
    {
     "data": {
      "image/png": "[encoded data removed]",
      "text/plain": [
       "<Figure size 1080x345.6 with 1 Axes>"
      ]
     },
     "metadata": {},
     "output_type": "display_data"
    }
   ],
   "source": [
    "#set chart size\n",
    "plt.figure(figsize=(15, 4.8))\n",
    "\n",
    "#create bar chart\n",
    "x_val, x_lab = get_missing(agri_area)\n",
    "plot_missing(co2, x_val, x_lab, 'Agricultural Area')"
   ]
  },
  {
   "cell_type": "code",
   "execution_count": 278,
   "metadata": {
    "scrolled": true
   },
   "outputs": [
    {
     "data": {
      "text/html": [
       "<div>\n",
       "<style scoped>\n",
       "    .dataframe tbody tr th:only-of-type {\n",
       "        vertical-align: middle;\n",
       "    }\n",
       "\n",
       "    .dataframe tbody tr th {\n",
       "        vertical-align: top;\n",
       "    }\n",
       "\n",
       "    .dataframe thead th {\n",
       "        text-align: right;\n",
       "    }\n",
       "</style>\n",
       "<table border=\"1\" class=\"dataframe\">\n",
       "  <thead>\n",
       "    <tr style=\"text-align: right;\">\n",
       "      <th></th>\n",
       "      <th>country</th>\n",
       "      <th>1961</th>\n",
       "      <th>1962</th>\n",
       "      <th>1963</th>\n",
       "      <th>1964</th>\n",
       "      <th>1965</th>\n",
       "      <th>1966</th>\n",
       "      <th>1967</th>\n",
       "      <th>1968</th>\n",
       "      <th>1969</th>\n",
       "      <th>...</th>\n",
       "      <th>1986</th>\n",
       "      <th>1987</th>\n",
       "      <th>1988</th>\n",
       "      <th>1989</th>\n",
       "      <th>1990</th>\n",
       "      <th>1991</th>\n",
       "      <th>1992</th>\n",
       "      <th>1993</th>\n",
       "      <th>1994</th>\n",
       "      <th>1995</th>\n",
       "    </tr>\n",
       "  </thead>\n",
       "  <tbody>\n",
       "    <tr>\n",
       "      <th>7</th>\n",
       "      <td>Armenia</td>\n",
       "      <td>NaN</td>\n",
       "      <td>NaN</td>\n",
       "      <td>NaN</td>\n",
       "      <td>NaN</td>\n",
       "      <td>NaN</td>\n",
       "      <td>NaN</td>\n",
       "      <td>NaN</td>\n",
       "      <td>NaN</td>\n",
       "      <td>NaN</td>\n",
       "      <td>...</td>\n",
       "      <td>NaN</td>\n",
       "      <td>NaN</td>\n",
       "      <td>NaN</td>\n",
       "      <td>NaN</td>\n",
       "      <td>NaN</td>\n",
       "      <td>NaN</td>\n",
       "      <td>41.1</td>\n",
       "      <td>41.5</td>\n",
       "      <td>42.1</td>\n",
       "      <td>43.7</td>\n",
       "    </tr>\n",
       "    <tr>\n",
       "      <th>12</th>\n",
       "      <td>Azerbaijan</td>\n",
       "      <td>NaN</td>\n",
       "      <td>NaN</td>\n",
       "      <td>NaN</td>\n",
       "      <td>NaN</td>\n",
       "      <td>NaN</td>\n",
       "      <td>NaN</td>\n",
       "      <td>NaN</td>\n",
       "      <td>NaN</td>\n",
       "      <td>NaN</td>\n",
       "      <td>...</td>\n",
       "      <td>NaN</td>\n",
       "      <td>NaN</td>\n",
       "      <td>NaN</td>\n",
       "      <td>NaN</td>\n",
       "      <td>NaN</td>\n",
       "      <td>NaN</td>\n",
       "      <td>53.4</td>\n",
       "      <td>53.6</td>\n",
       "      <td>53.9</td>\n",
       "      <td>53.9</td>\n",
       "    </tr>\n",
       "    <tr>\n",
       "      <th>21</th>\n",
       "      <td>Bosnia and Herzegovina</td>\n",
       "      <td>NaN</td>\n",
       "      <td>NaN</td>\n",
       "      <td>NaN</td>\n",
       "      <td>NaN</td>\n",
       "      <td>NaN</td>\n",
       "      <td>NaN</td>\n",
       "      <td>NaN</td>\n",
       "      <td>NaN</td>\n",
       "      <td>NaN</td>\n",
       "      <td>...</td>\n",
       "      <td>NaN</td>\n",
       "      <td>NaN</td>\n",
       "      <td>NaN</td>\n",
       "      <td>NaN</td>\n",
       "      <td>NaN</td>\n",
       "      <td>NaN</td>\n",
       "      <td>43.0</td>\n",
       "      <td>42.8</td>\n",
       "      <td>42.6</td>\n",
       "      <td>42.5</td>\n",
       "    </tr>\n",
       "  </tbody>\n",
       "</table>\n",
       "<p>3 rows × 36 columns</p>\n",
       "</div>"
      ],
      "text/plain": [
       "                   country  1961  1962  1963  1964  1965  1966  1967  1968  \\\n",
       "7                  Armenia   NaN   NaN   NaN   NaN   NaN   NaN   NaN   NaN   \n",
       "12              Azerbaijan   NaN   NaN   NaN   NaN   NaN   NaN   NaN   NaN   \n",
       "21  Bosnia and Herzegovina   NaN   NaN   NaN   NaN   NaN   NaN   NaN   NaN   \n",
       "\n",
       "    1969  ...  1986  1987  1988  1989  1990  1991  1992  1993  1994  1995  \n",
       "7    NaN  ...   NaN   NaN   NaN   NaN   NaN   NaN  41.1  41.5  42.1  43.7  \n",
       "12   NaN  ...   NaN   NaN   NaN   NaN   NaN   NaN  53.4  53.6  53.9  53.9  \n",
       "21   NaN  ...   NaN   NaN   NaN   NaN   NaN   NaN  43.0  42.8  42.6  42.5  \n",
       "\n",
       "[3 rows x 36 columns]"
      ]
     },
     "execution_count": 278,
     "metadata": {},
     "output_type": "execute_result"
    }
   ],
   "source": [
    "agri_area[agri_area['country'].isin(x_lab)].loc[:,:'1995'].head(3)"
   ]
  },
  {
   "cell_type": "code",
   "execution_count": 279,
   "metadata": {},
   "outputs": [],
   "source": [
    "#replace missing with next values\n",
    "agri_area.fillna(method='backfill', axis=0, inplace=True)"
   ]
  },
  {
   "cell_type": "code",
   "execution_count": 280,
   "metadata": {},
   "outputs": [
    {
     "data": {
      "text/plain": [
       "False"
      ]
     },
     "execution_count": 280,
     "metadata": {},
     "output_type": "execute_result"
    }
   ],
   "source": [
    "#verify that there are no more missing values\n",
    "co2.isna().sum().any()"
   ]
  },
  {
   "cell_type": "markdown",
   "metadata": {},
   "source": [
    "<a id='reshape'></a>\n",
    "### Reshaping Data\n",
    "To unite all datasets into one dataframe, the data is first converted </br>\n",
    "from wide to long format and then merged together with an outer join. </br>\n",
    "The years are not column labels anymore, so they can be converted to </br>\n",
    "datetime format and resampled with a frequency of a decade to reduce </br>\n",
    "the number of datapoints.\n"
   ]
  },
  {
   "cell_type": "code",
   "execution_count": 281,
   "metadata": {},
   "outputs": [],
   "source": [
    "#convert datasets to long format\n",
    "pop_melted = pd.melt(pop, id_vars=['country'], var_name='year', value_name='population')\n",
    "\n",
    "co2_melted = pd.melt(co2, id_vars=['country'], var_name='year', value_name='co2')\n",
    "\n",
    "agri_melted = pd.melt(agri_area, id_vars=['country'], var_name='year', value_name='agr_area')\n",
    "\n",
    "life_exp_melted = pd.melt(life_exp, id_vars=['country'], var_name='year', value_name='life_exp')"
   ]
  },
  {
   "cell_type": "code",
   "execution_count": 282,
   "metadata": {
    "scrolled": true
   },
   "outputs": [
    {
     "data": {
      "text/html": [
       "<div>\n",
       "<style scoped>\n",
       "    .dataframe tbody tr th:only-of-type {\n",
       "        vertical-align: middle;\n",
       "    }\n",
       "\n",
       "    .dataframe tbody tr th {\n",
       "        vertical-align: top;\n",
       "    }\n",
       "\n",
       "    .dataframe thead th {\n",
       "        text-align: right;\n",
       "    }\n",
       "</style>\n",
       "<table border=\"1\" class=\"dataframe\">\n",
       "  <thead>\n",
       "    <tr style=\"text-align: right;\">\n",
       "      <th></th>\n",
       "      <th>country</th>\n",
       "      <th>year</th>\n",
       "      <th>co2</th>\n",
       "    </tr>\n",
       "  </thead>\n",
       "  <tbody>\n",
       "    <tr>\n",
       "      <th>0</th>\n",
       "      <td>Afghanistan</td>\n",
       "      <td>1950</td>\n",
       "      <td>0.0109</td>\n",
       "    </tr>\n",
       "    <tr>\n",
       "      <th>1</th>\n",
       "      <td>Angola</td>\n",
       "      <td>1950</td>\n",
       "      <td>0.0411</td>\n",
       "    </tr>\n",
       "    <tr>\n",
       "      <th>2</th>\n",
       "      <td>Albania</td>\n",
       "      <td>1950</td>\n",
       "      <td>0.2350</td>\n",
       "    </tr>\n",
       "    <tr>\n",
       "      <th>3</th>\n",
       "      <td>Andorra</td>\n",
       "      <td>1950</td>\n",
       "      <td>1.9846</td>\n",
       "    </tr>\n",
       "    <tr>\n",
       "      <th>4</th>\n",
       "      <td>United Arab Emirates</td>\n",
       "      <td>1950</td>\n",
       "      <td>1.9846</td>\n",
       "    </tr>\n",
       "  </tbody>\n",
       "</table>\n",
       "</div>"
      ],
      "text/plain": [
       "                country  year     co2\n",
       "0           Afghanistan  1950  0.0109\n",
       "1                Angola  1950  0.0411\n",
       "2               Albania  1950  0.2350\n",
       "3               Andorra  1950  1.9846\n",
       "4  United Arab Emirates  1950  1.9846"
      ]
     },
     "execution_count": 282,
     "metadata": {},
     "output_type": "execute_result"
    }
   ],
   "source": [
    "co2_melted.head()"
   ]
  },
  {
   "cell_type": "code",
   "execution_count": 283,
   "metadata": {},
   "outputs": [],
   "source": [
    "#join the melted data together\n",
    "df_merged = pop_melted.merge(co2_melted, on=['country','year'], how='outer')\\\n",
    "                    .merge(agri_melted, on=['country','year'], how='outer')\\\n",
    "                    .merge(life_exp_melted, on=['country','year'], how='outer')"
   ]
  },
  {
   "cell_type": "code",
   "execution_count": 284,
   "metadata": {
    "scrolled": true
   },
   "outputs": [
    {
     "data": {
      "text/html": [
       "<div>\n",
       "<style scoped>\n",
       "    .dataframe tbody tr th:only-of-type {\n",
       "        vertical-align: middle;\n",
       "    }\n",
       "\n",
       "    .dataframe tbody tr th {\n",
       "        vertical-align: top;\n",
       "    }\n",
       "\n",
       "    .dataframe thead th {\n",
       "        text-align: right;\n",
       "    }\n",
       "</style>\n",
       "<table border=\"1\" class=\"dataframe\">\n",
       "  <thead>\n",
       "    <tr style=\"text-align: right;\">\n",
       "      <th></th>\n",
       "      <th>country</th>\n",
       "      <th>year</th>\n",
       "      <th>population</th>\n",
       "      <th>co2</th>\n",
       "      <th>agr_area</th>\n",
       "      <th>life_exp</th>\n",
       "    </tr>\n",
       "  </thead>\n",
       "  <tbody>\n",
       "    <tr>\n",
       "      <th>0</th>\n",
       "      <td>Afghanistan</td>\n",
       "      <td>1950</td>\n",
       "      <td>7750000.0</td>\n",
       "      <td>0.0109</td>\n",
       "      <td>NaN</td>\n",
       "      <td>42.7</td>\n",
       "    </tr>\n",
       "    <tr>\n",
       "      <th>1</th>\n",
       "      <td>Angola</td>\n",
       "      <td>1950</td>\n",
       "      <td>4550000.0</td>\n",
       "      <td>0.0411</td>\n",
       "      <td>NaN</td>\n",
       "      <td>45.6</td>\n",
       "    </tr>\n",
       "    <tr>\n",
       "      <th>2</th>\n",
       "      <td>Albania</td>\n",
       "      <td>1950</td>\n",
       "      <td>1260000.0</td>\n",
       "      <td>0.2350</td>\n",
       "      <td>NaN</td>\n",
       "      <td>52.2</td>\n",
       "    </tr>\n",
       "    <tr>\n",
       "      <th>3</th>\n",
       "      <td>Andorra</td>\n",
       "      <td>1950</td>\n",
       "      <td>620.0</td>\n",
       "      <td>1.9846</td>\n",
       "      <td>NaN</td>\n",
       "      <td>74.6</td>\n",
       "    </tr>\n",
       "    <tr>\n",
       "      <th>4</th>\n",
       "      <td>United Arab Emirates</td>\n",
       "      <td>1950</td>\n",
       "      <td>69600.0</td>\n",
       "      <td>1.9846</td>\n",
       "      <td>NaN</td>\n",
       "      <td>58.4</td>\n",
       "    </tr>\n",
       "  </tbody>\n",
       "</table>\n",
       "</div>"
      ],
      "text/plain": [
       "                country  year  population     co2  agr_area  life_exp\n",
       "0           Afghanistan  1950   7750000.0  0.0109       NaN      42.7\n",
       "1                Angola  1950   4550000.0  0.0411       NaN      45.6\n",
       "2               Albania  1950   1260000.0  0.2350       NaN      52.2\n",
       "3               Andorra  1950       620.0  1.9846       NaN      74.6\n",
       "4  United Arab Emirates  1950     69600.0  1.9846       NaN      58.4"
      ]
     },
     "execution_count": 284,
     "metadata": {},
     "output_type": "execute_result"
    }
   ],
   "source": [
    "df_merged.head()"
   ]
  },
  {
   "cell_type": "code",
   "execution_count": 290,
   "metadata": {},
   "outputs": [
    {
     "data": {
      "text/html": [
       "<div>\n",
       "<style scoped>\n",
       "    .dataframe tbody tr th:only-of-type {\n",
       "        vertical-align: middle;\n",
       "    }\n",
       "\n",
       "    .dataframe tbody tr th {\n",
       "        vertical-align: top;\n",
       "    }\n",
       "\n",
       "    .dataframe thead th {\n",
       "        text-align: right;\n",
       "    }\n",
       "</style>\n",
       "<table border=\"1\" class=\"dataframe\">\n",
       "  <thead>\n",
       "    <tr style=\"text-align: right;\">\n",
       "      <th></th>\n",
       "      <th>country</th>\n",
       "      <th>region</th>\n",
       "      <th>continent</th>\n",
       "    </tr>\n",
       "  </thead>\n",
       "  <tbody>\n",
       "    <tr>\n",
       "      <th>0</th>\n",
       "      <td>Afghanistan</td>\n",
       "      <td>Southern Asia</td>\n",
       "      <td>Asia</td>\n",
       "    </tr>\n",
       "    <tr>\n",
       "      <th>1</th>\n",
       "      <td>Åland Islands</td>\n",
       "      <td>Northern Europe</td>\n",
       "      <td>Europe</td>\n",
       "    </tr>\n",
       "    <tr>\n",
       "      <th>2</th>\n",
       "      <td>Albania</td>\n",
       "      <td>Southern Europe</td>\n",
       "      <td>Europe</td>\n",
       "    </tr>\n",
       "    <tr>\n",
       "      <th>3</th>\n",
       "      <td>Algeria</td>\n",
       "      <td>Northern Africa</td>\n",
       "      <td>Africa</td>\n",
       "    </tr>\n",
       "    <tr>\n",
       "      <th>4</th>\n",
       "      <td>American Samoa</td>\n",
       "      <td>Polynesia</td>\n",
       "      <td>Oceania</td>\n",
       "    </tr>\n",
       "  </tbody>\n",
       "</table>\n",
       "</div>"
      ],
      "text/plain": [
       "          country           region continent\n",
       "0     Afghanistan    Southern Asia      Asia\n",
       "1   Åland Islands  Northern Europe    Europe\n",
       "2         Albania  Southern Europe    Europe\n",
       "3         Algeria  Northern Africa    Africa\n",
       "4  American Samoa        Polynesia   Oceania"
      ]
     },
     "metadata": {},
     "output_type": "display_data"
    },
    {
     "name": "stdout",
     "output_type": "stream",
     "text": [
      "['Antarctica', 'Australia and New Zealand', 'Caribbean', 'Central America', 'Central Asia', 'Eastern Africa', 'Eastern Asia', 'Eastern Europe', 'Melanesia', 'Micronesia', 'Middle Africa', 'Northern Africa', 'Northern America', 'Northern Europe', 'Polynesia', 'South America', 'South-eastern Asia', 'Southern Africa', 'Southern Asia', 'Southern Europe', 'Western Africa', 'Western Asia', 'Western Europe']\n"
     ]
    },
    {
     "data": {
      "text/plain": [
       "23"
      ]
     },
     "execution_count": 290,
     "metadata": {},
     "output_type": "execute_result"
    }
   ],
   "source": [
    "#add continent and region information\n",
    "continents = pd.read_csv('./gapminder_data/continents.csv', sep='\\t', header=None,\\\n",
    "                         usecols=[1,4,6], names=['country', 'region', 'continent'])\n",
    "display(continents.head())\n",
    "print(sorted(continents.region.unique()))\n",
    "len(continents.region.unique())"
   ]
  },
  {
   "cell_type": "code",
   "execution_count": 286,
   "metadata": {},
   "outputs": [
    {
     "data": {
      "text/html": [
       "<div>\n",
       "<style scoped>\n",
       "    .dataframe tbody tr th:only-of-type {\n",
       "        vertical-align: middle;\n",
       "    }\n",
       "\n",
       "    .dataframe tbody tr th {\n",
       "        vertical-align: top;\n",
       "    }\n",
       "\n",
       "    .dataframe thead th {\n",
       "        text-align: right;\n",
       "    }\n",
       "</style>\n",
       "<table border=\"1\" class=\"dataframe\">\n",
       "  <thead>\n",
       "    <tr style=\"text-align: right;\">\n",
       "      <th></th>\n",
       "      <th>country</th>\n",
       "      <th>year</th>\n",
       "      <th>population</th>\n",
       "      <th>co2</th>\n",
       "      <th>agr_area</th>\n",
       "      <th>life_exp</th>\n",
       "      <th>region</th>\n",
       "      <th>continent</th>\n",
       "    </tr>\n",
       "  </thead>\n",
       "  <tbody>\n",
       "    <tr>\n",
       "      <th>0</th>\n",
       "      <td>Afghanistan</td>\n",
       "      <td>1950</td>\n",
       "      <td>7750000.0</td>\n",
       "      <td>0.0109</td>\n",
       "      <td>NaN</td>\n",
       "      <td>42.7</td>\n",
       "      <td>Southern Asia</td>\n",
       "      <td>Asia</td>\n",
       "    </tr>\n",
       "    <tr>\n",
       "      <th>1</th>\n",
       "      <td>Angola</td>\n",
       "      <td>1950</td>\n",
       "      <td>4550000.0</td>\n",
       "      <td>0.0411</td>\n",
       "      <td>NaN</td>\n",
       "      <td>45.6</td>\n",
       "      <td>Middle Africa</td>\n",
       "      <td>Africa</td>\n",
       "    </tr>\n",
       "    <tr>\n",
       "      <th>2</th>\n",
       "      <td>Albania</td>\n",
       "      <td>1950</td>\n",
       "      <td>1260000.0</td>\n",
       "      <td>0.2350</td>\n",
       "      <td>NaN</td>\n",
       "      <td>52.2</td>\n",
       "      <td>Southern Europe</td>\n",
       "      <td>Europe</td>\n",
       "    </tr>\n",
       "    <tr>\n",
       "      <th>3</th>\n",
       "      <td>Andorra</td>\n",
       "      <td>1950</td>\n",
       "      <td>620.0</td>\n",
       "      <td>1.9846</td>\n",
       "      <td>NaN</td>\n",
       "      <td>74.6</td>\n",
       "      <td>Southern Europe</td>\n",
       "      <td>Europe</td>\n",
       "    </tr>\n",
       "    <tr>\n",
       "      <th>4</th>\n",
       "      <td>United Arab Emirates</td>\n",
       "      <td>1950</td>\n",
       "      <td>69600.0</td>\n",
       "      <td>1.9846</td>\n",
       "      <td>NaN</td>\n",
       "      <td>58.4</td>\n",
       "      <td>Western Asia</td>\n",
       "      <td>Asia</td>\n",
       "    </tr>\n",
       "  </tbody>\n",
       "</table>\n",
       "</div>"
      ],
      "text/plain": [
       "                country  year  population     co2  agr_area  life_exp  \\\n",
       "0           Afghanistan  1950   7750000.0  0.0109       NaN      42.7   \n",
       "1                Angola  1950   4550000.0  0.0411       NaN      45.6   \n",
       "2               Albania  1950   1260000.0  0.2350       NaN      52.2   \n",
       "3               Andorra  1950       620.0  1.9846       NaN      74.6   \n",
       "4  United Arab Emirates  1950     69600.0  1.9846       NaN      58.4   \n",
       "\n",
       "            region continent  \n",
       "0    Southern Asia      Asia  \n",
       "1    Middle Africa    Africa  \n",
       "2  Southern Europe    Europe  \n",
       "3  Southern Europe    Europe  \n",
       "4     Western Asia      Asia  "
      ]
     },
     "execution_count": 286,
     "metadata": {},
     "output_type": "execute_result"
    }
   ],
   "source": [
    "df_merged = df_merged.merge(continents, on='country', how='left')\n",
    "df_merged.head()"
   ]
  },
  {
   "cell_type": "code",
   "execution_count": 287,
   "metadata": {},
   "outputs": [],
   "source": [
    "#convert 'year' column to datetime\n",
    "df_merged['year'] = pd.to_datetime(df_merged['year'])\n",
    "assert df_merged['year'].dtype == 'datetime64[ns]'"
   ]
  },
  {
   "cell_type": "code",
   "execution_count": 289,
   "metadata": {},
   "outputs": [
    {
     "data": {
      "text/html": [
       "<div>\n",
       "<style scoped>\n",
       "    .dataframe tbody tr th:only-of-type {\n",
       "        vertical-align: middle;\n",
       "    }\n",
       "\n",
       "    .dataframe tbody tr th {\n",
       "        vertical-align: top;\n",
       "    }\n",
       "\n",
       "    .dataframe thead th {\n",
       "        text-align: right;\n",
       "    }\n",
       "</style>\n",
       "<table border=\"1\" class=\"dataframe\">\n",
       "  <thead>\n",
       "    <tr style=\"text-align: right;\">\n",
       "      <th></th>\n",
       "      <th></th>\n",
       "      <th></th>\n",
       "      <th></th>\n",
       "      <th>population</th>\n",
       "      <th>co2</th>\n",
       "      <th>agr_area</th>\n",
       "      <th>life_exp</th>\n",
       "    </tr>\n",
       "    <tr>\n",
       "      <th>continent</th>\n",
       "      <th>region</th>\n",
       "      <th>country</th>\n",
       "      <th>year</th>\n",
       "      <th></th>\n",
       "      <th></th>\n",
       "      <th></th>\n",
       "      <th></th>\n",
       "    </tr>\n",
       "  </thead>\n",
       "  <tbody>\n",
       "    <tr>\n",
       "      <th rowspan=\"5\" valign=\"top\">Africa</th>\n",
       "      <th rowspan=\"5\" valign=\"top\">Eastern Africa</th>\n",
       "      <th rowspan=\"5\" valign=\"top\">Burundi</th>\n",
       "      <th>1950-12-31</th>\n",
       "      <td>2310000.0</td>\n",
       "      <td>1.98460</td>\n",
       "      <td>NaN</td>\n",
       "      <td>40.20</td>\n",
       "    </tr>\n",
       "    <tr>\n",
       "      <th>1960-12-31</th>\n",
       "      <td>2570000.0</td>\n",
       "      <td>1.77720</td>\n",
       "      <td>NaN</td>\n",
       "      <td>42.10</td>\n",
       "    </tr>\n",
       "    <tr>\n",
       "      <th>1970-12-31</th>\n",
       "      <td>3149000.0</td>\n",
       "      <td>0.01611</td>\n",
       "      <td>65.18</td>\n",
       "      <td>45.20</td>\n",
       "    </tr>\n",
       "    <tr>\n",
       "      <th>1980-12-31</th>\n",
       "      <td>3784000.0</td>\n",
       "      <td>0.02450</td>\n",
       "      <td>79.60</td>\n",
       "      <td>44.44</td>\n",
       "    </tr>\n",
       "    <tr>\n",
       "      <th>1990-12-31</th>\n",
       "      <td>4836000.0</td>\n",
       "      <td>0.04453</td>\n",
       "      <td>81.04</td>\n",
       "      <td>49.10</td>\n",
       "    </tr>\n",
       "  </tbody>\n",
       "</table>\n",
       "</div>"
      ],
      "text/plain": [
       "                                             population      co2  agr_area  \\\n",
       "continent region         country year                                        \n",
       "Africa    Eastern Africa Burundi 1950-12-31   2310000.0  1.98460       NaN   \n",
       "                                 1960-12-31   2570000.0  1.77720       NaN   \n",
       "                                 1970-12-31   3149000.0  0.01611     65.18   \n",
       "                                 1980-12-31   3784000.0  0.02450     79.60   \n",
       "                                 1990-12-31   4836000.0  0.04453     81.04   \n",
       "\n",
       "                                             life_exp  \n",
       "continent region         country year                  \n",
       "Africa    Eastern Africa Burundi 1950-12-31     40.20  \n",
       "                                 1960-12-31     42.10  \n",
       "                                 1970-12-31     45.20  \n",
       "                                 1980-12-31     44.44  \n",
       "                                 1990-12-31     49.10  "
      ]
     },
     "execution_count": 289,
     "metadata": {},
     "output_type": "execute_result"
    }
   ],
   "source": [
    "#group countries and resample dates to a frequency of 10 years\n",
    "df_merged_resampled = df_merged.groupby(['continent', 'region', 'country']).resample('10A', on='year').mean()\n",
    "df_merged_resampled.head()\n",
    "#df_merged_resampled.shape"
   ]
  },
  {
   "cell_type": "markdown",
   "metadata": {},
   "source": [
    "<a id='eda'></a>\n",
    "## Exploratory Data Analysis\n",
    "\n",
    "> **Tip**: Now that you've trimmed and cleaned your data, you're ready to move on to exploration. Compute statistics and create visualizations with the goal of addressing the research questions that you posed in the Introduction section. It is recommended that you be systematic with your approach. Look at one variable at a time, and then follow it up by looking at relationships between variables.\n",
    "\n",
    "### Compare population and life expectancy"
   ]
  },
  {
   "cell_type": "code",
   "execution_count": 291,
   "metadata": {},
   "outputs": [],
   "source": [
    "#fig,ax = plt.subplots(figsize=(16,7))\n",
    "#sns.scatterplot(data=df_merged_resampled, y=df_merged_resampled.index.get_level_values('year'), x='co2', size=\"population\", hue=df_merged_resampled.index.get_level_values('country') ,legend=False, sizes=(20, 2000))\n"
   ]
  },
  {
   "cell_type": "code",
   "execution_count": 310,
   "metadata": {},
   "outputs": [
    {
     "data": {
      "image/png": "[encoded data removed]",
      "text/plain": [
       "<Figure size 576x288 with 2 Axes>"
      ]
     },
     "metadata": {},
     "output_type": "display_data"
    }
   ],
   "source": [
    "fig,ax1 = plt.subplots(figsize=(16,7))\n",
    "\n",
    "ax2 = ax1.twinx()"
   ]
  },
  {
   "cell_type": "code",
   "execution_count": 403,
   "metadata": {},
   "outputs": [
    {
     "name": "stdout",
     "output_type": "stream",
     "text": [
      "DatetimeIndex(['1950-12-31', '1960-12-31', '1970-12-31', '1980-12-31',\n",
      "               '1990-12-31', '2000-12-31', '2010-12-31', '2020-12-31',\n",
      "               '2030-12-31', '2040-12-31',\n",
      "               ...\n",
      "               '2010-12-31', '2020-12-31', '2030-12-31', '2040-12-31',\n",
      "               '2050-12-31', '2060-12-31', '2070-12-31', '2080-12-31',\n",
      "               '2090-12-31', '2100-12-31'],\n",
      "              dtype='datetime64[ns]', name='year', length=2640, freq=None)\n",
      "continent      region          country    year      \n",
      "Africa         Eastern Africa  Burundi    1950-12-31    1.98460\n",
      "                               Comoros    1950-12-31    1.98460\n",
      "                               Djibouti   1950-12-31    0.17700\n",
      "                               Eritrea    1950-12-31    1.98460\n",
      "                               Ethiopia   1950-12-31    0.00485\n",
      "                                                         ...   \n",
      "South America  South America   Argentina  1950-12-31    1.76000\n",
      "                               Brazil     1950-12-31    0.36500\n",
      "                               Chile      1950-12-31    1.28000\n",
      "                               Colombia   1950-12-31    0.62600\n",
      "                               Ecuador    1950-12-31    0.21300\n",
      "Name: co2, Length: 96, dtype: float64\n"
     ]
    },
    {
     "data": {
      "text/plain": [
       "region\n",
       "Australia and New Zealand    12.431250\n",
       "Caribbean                     6.174025\n",
       "Central America               1.702578\n",
       "Central Asia                  7.848281\n",
       "Eastern Africa                0.709960\n",
       "Eastern Asia                  8.838333\n",
       "Eastern Europe                6.046458\n",
       "Melanesia                     0.883531\n",
       "Micronesia                    5.024188\n",
       "Middle Africa                 1.587918\n",
       "Northern Africa               3.156875\n",
       "Northern America             15.962500\n",
       "Northern Europe               7.774861\n",
       "Polynesia                     1.099375\n",
       "South America                 2.671562\n",
       "South-eastern Asia            3.127891\n",
       "Southern Africa               3.029600\n",
       "Southern Asia                 1.096359\n",
       "Southern Europe               5.116442\n",
       "Western Africa                0.348880\n",
       "Western Asia                 11.423773\n",
       "Western Europe                9.198393\n",
       "Name: co2, dtype: float64"
      ]
     },
     "execution_count": 403,
     "metadata": {},
     "output_type": "execute_result"
    }
   ],
   "source": [
    "years = df_merged_resampled.index.get_level_values('year')\n",
    "print(years)\n",
    "twenty = df_merged_resampled.loc[years =='2020-12-31'].groupby('region')['co2']\n",
    "fifty = df_merged_resampled.loc[years =='1950-12-31'].groupby('region')['co2']\n",
    "print(fifty.head())\n",
    "means20 = twenty.mean()\n",
    "means50 = fifty.mean()"
   ]
  },
  {
   "cell_type": "code",
   "execution_count": 404,
   "metadata": {
    "scrolled": true
   },
   "outputs": [
    {
     "data": {
      "image/png": "[encoded data removed]",
      "text/plain": [
       "<Figure size 864x360 with 1 Axes>"
      ]
     },
     "metadata": {},
     "output_type": "display_data"
    }
   ],
   "source": [
    "#co2 data proportion of co2 emissions per region\n",
    "fig,ax = plt.subplots(figsize=(12,5))\n",
    "width = 0.5\n",
    "x = np.arange(len(fifty))\n",
    "\n",
    "ax.bar(x=x, height=means20, width=width)\n",
    "ax.bar(x=x+0.5, height=means50, width=width)\n",
    "plt.xticks(ticks=x, labels=sorted(df_merged_resampled.index.get_level_values('region').unique()), rotation=90);"
   ]
  },
  {
   "cell_type": "code",
   "execution_count": 124,
   "metadata": {},
   "outputs": [],
   "source": [
    "#hist or boxplot: mean of each year for all countries\n",
    "#barplot with proportions of each country/continent"
   ]
  },
  {
   "cell_type": "code",
   "execution_count": null,
   "metadata": {},
   "outputs": [],
   "source": []
  },
  {
   "cell_type": "code",
   "execution_count": 125,
   "metadata": {},
   "outputs": [],
   "source": [
    "# Use this, and more code cells, to explore your data. Don't forget to add\n",
    "#   Markdown cells to document your observations and findings.\n"
   ]
  },
  {
   "cell_type": "markdown",
   "metadata": {},
   "source": [
    "### Research Question 2  (Replace this header name!)"
   ]
  },
  {
   "cell_type": "code",
   "execution_count": 126,
   "metadata": {},
   "outputs": [],
   "source": [
    "# Continue to explore the data to address your additional research\n",
    "#   questions. Add more headers as needed if you have more questions to\n",
    "#   investigate.\n"
   ]
  },
  {
   "cell_type": "markdown",
   "metadata": {},
   "source": [
    "<a id='conclusions'></a>\n",
    "## Conclusions\n",
    "\n",
    "> **Tip**: Finally, summarize your findings and the results that have been performed. Make sure that you are clear with regards to the limitations of your exploration. If you haven't done any statistical tests, do not imply any statistical conclusions. And make sure you avoid implying causation from correlation!\n",
    "\n",
    "> **Tip**: Once you are satisfied with your work, you should save a copy of the report in HTML or PDF form via the **File** > **Download as** submenu. Before exporting your report, check over it to make sure that the flow of the report is complete. You should probably remove all of the \"Tip\" quotes like this one so that the presentation is as tidy as possible. Congratulations!"
   ]
  },
  {
   "cell_type": "markdown",
   "metadata": {},
   "source": [
    "### Resources used:\n",
    "- online documentation for pandas, matplotlib, seaborn, numpy\n",
    "- personal notes from taking other courses\n",
    "- stackoverflow.com\n",
    "- geeksforgeeks.org\n",
    "- stackabuse.com\n",
    "- gapminder.org\n",
    "- w3schoolos.com\n",
    "- towardsdatescience.com\n",
    "- statisticstimes.com\n",
    "- datacamp.com\n",
    "- worldometers.info\n",
    "- docs.python.org\n",
    "- python-graph-gallery.com"
   ]
  },
  {
   "cell_type": "markdown",
   "metadata": {},
   "source": [
    "#### custom helper functions"
   ]
  },
  {
   "cell_type": "code",
   "execution_count": 128,
   "metadata": {},
   "outputs": [],
   "source": [
    "# %load helpers.py\n",
    "import numpy\n",
    "import matplotlib.pyplot as plt\n",
    "import pandas as pd\n",
    "\n",
    "def get_num_countries(datasets, names):\n",
    "    for i, val in enumerate(datasets):\n",
    "        print('Number of countries in {}: {}'.format(names[i], val.country.nunique()))\n",
    "\n",
    "def get_missing(data):\n",
    "    #save num of missing values in new column \n",
    "    data['missing'] = data.iloc[:, 1:].apply(lambda x: x.isna().sum() if numpy.any(x.isna()) else 0, axis=1)\n",
    "    #filter for values < 0 \n",
    "    filtered = data['missing'][data['missing'] != 0]\n",
    "    ctries = data['country'][data['missing'] != 0]\n",
    "    return (filtered, ctries)\n",
    "\n",
    "def plot_missing(data, x_values, x_labels, set_name):\n",
    "    #plot bar chart\n",
    "    x_values.plot(kind='bar', color=(0.2, 0.4, 0.6, 0.6))\n",
    "    plt.xticks(numpy.arange(0, len(x_values)), x_labels)\n",
    "    #label the axes and set title \n",
    "    plt.xlabel('Country')\n",
    "    plt.ylabel('Number of missing values')\n",
    "    plt.title(('Missing values per country in {} data').format(set_name), fontsize=13, fontweight='bold')\n",
    "    \n",
    "def cut_suffix_tonumber(x):\n",
    "    #check last char, cut last char, convert to float, \n",
    "    #multiply depending if last char is 'M', 'k' or 'B'\n",
    "    #if no letter-suffix, just convert to float \n",
    "    if x[-1:] == 'M':\n",
    "        return pd.to_numeric(x[:-1]) * 1000000\n",
    "    elif x[-1:] == 'k':\n",
    "        return pd.to_numeric(x[:-1]) * 1000\n",
    "    elif x[-1:] == 'B':\n",
    "        return pd.to_numeric(x[:-1]) * 1000000000\n",
    "    else:\n",
    "        return pd.to_numeric(x[:-1])"
   ]
  },
  {
   "cell_type": "code",
   "execution_count": null,
   "metadata": {},
   "outputs": [],
   "source": []
  }
 ],
 "metadata": {
  "kernelspec": {
   "display_name": "Python 3 (ipykernel)",
   "language": "python",
   "name": "python3"
  },
  "language_info": {
   "codemirror_mode": {
    "name": "ipython",
    "version": 3
   },
   "file_extension": ".py",
   "mimetype": "text/x-python",
   "name": "python",
   "nbconvert_exporter": "python",
   "pygments_lexer": "ipython3",
   "version": "3.8.11"
  }
 },
 "nbformat": 4,
 "nbformat_minor": 2
}

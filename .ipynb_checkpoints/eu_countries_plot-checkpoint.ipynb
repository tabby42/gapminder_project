{
 "cells": [
  {
   "cell_type": "code",
   "execution_count": null,
   "id": "cf95eeac",
   "metadata": {},
   "outputs": [],
   "source": [
    "eu_countries = pd.read_csv('./gapminder_data/eu_countries.csv', header=None)\n",
    "eu_countries = [x.strip() for x in eu_countries[1]]\n",
    "type(eu_countries[1])\n",
    "\n",
    "print(len(eu_countries))\n",
    "\n",
    "fig,ax1 = plt.subplots(figsize=(16,7))\n",
    "\n",
    "ax2 = ax1.twinx()\n",
    "\n",
    "df_eu = df_merged_resampled[df_merged_resampled.index.get_level_values('country').isin(eu_countries)]\n",
    "\n",
    "eu_life = df_eu.groupby(['year', 'country'])[['life_exp']].mean().unstack()\n",
    "eu_pop = df_eu.groupby(['year', 'country'])[['population']].mean().unstack()\n",
    "\n",
    "eu_mean_pop = df_eu.groupby('year')['population'].mean()\n",
    "eu_mean_life = df_eu.groupby('year')['life_exp'].mean()\n",
    "\n",
    "ax1.plot(eu_mean_pop.index, eu_mean_pop.values)\n",
    "ax2.plot(eu_mean_life.index, eu_mean_life.values)"
   ]
  }
 ],
 "metadata": {
  "kernelspec": {
   "display_name": "Python 3 (ipykernel)",
   "language": "python",
   "name": "python3"
  },
  "language_info": {
   "codemirror_mode": {
    "name": "ipython",
    "version": 3
   },
   "file_extension": ".py",
   "mimetype": "text/x-python",
   "name": "python",
   "nbconvert_exporter": "python",
   "pygments_lexer": "ipython3",
   "version": "3.8.11"
  }
 },
 "nbformat": 4,
 "nbformat_minor": 5
}
